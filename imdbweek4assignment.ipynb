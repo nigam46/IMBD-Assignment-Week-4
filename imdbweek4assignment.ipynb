{
 "cells": [
  {
   "cell_type": "markdown",
   "id": "4fa4af9a-8200-408a-b8ff-b81e467ed414",
   "metadata": {},
   "source": [
    "\"Step-by-Step Web Scraping Script using IMDbPY\"\n",
    "-"
   ]
  },
  {
   "cell_type": "markdown",
   "id": "e6574a69-936d-4975-99a0-714e49d28caf",
   "metadata": {},
   "source": [
    "# First, we need to install the necessary libraries to run the script:\n",
    "    \n",
    "    IMDbPY for interacting with IMDb’s API.\n",
    "    pandas for organizing and saving the data."
   ]
  },
  {
   "cell_type": "code",
   "execution_count": 3,
   "id": "e18ff3fb-7733-49e0-8bf8-e1b828b6ca58",
   "metadata": {},
   "outputs": [
    {
     "name": "stdout",
     "output_type": "stream",
     "text": [
      "Requirement already satisfied: IMDbPY in c:\\users\\vipan\\anaconda3\\lib\\site-packages (2022.7.9)\n",
      "Requirement already satisfied: pandas in c:\\users\\vipan\\anaconda3\\lib\\site-packages (2.2.2)\n",
      "Requirement already satisfied: cinemagoer in c:\\users\\vipan\\anaconda3\\lib\\site-packages (from IMDbPY) (2023.5.1)\n",
      "Requirement already satisfied: numpy>=1.26.0 in c:\\users\\vipan\\anaconda3\\lib\\site-packages (from pandas) (1.26.4)\n",
      "Requirement already satisfied: python-dateutil>=2.8.2 in c:\\users\\vipan\\anaconda3\\lib\\site-packages (from pandas) (2.9.0.post0)\n",
      "Requirement already satisfied: pytz>=2020.1 in c:\\users\\vipan\\anaconda3\\lib\\site-packages (from pandas) (2024.1)\n",
      "Requirement already satisfied: tzdata>=2022.7 in c:\\users\\vipan\\anaconda3\\lib\\site-packages (from pandas) (2023.3)\n",
      "Requirement already satisfied: six>=1.5 in c:\\users\\vipan\\anaconda3\\lib\\site-packages (from python-dateutil>=2.8.2->pandas) (1.16.0)\n",
      "Requirement already satisfied: SQLAlchemy in c:\\users\\vipan\\anaconda3\\lib\\site-packages (from cinemagoer->IMDbPY) (2.0.30)\n",
      "Requirement already satisfied: lxml in c:\\users\\vipan\\anaconda3\\lib\\site-packages (from cinemagoer->IMDbPY) (5.2.1)\n",
      "Requirement already satisfied: typing-extensions>=4.6.0 in c:\\users\\vipan\\anaconda3\\lib\\site-packages (from SQLAlchemy->cinemagoer->IMDbPY) (4.11.0)\n",
      "Requirement already satisfied: greenlet!=0.4.17 in c:\\users\\vipan\\anaconda3\\lib\\site-packages (from SQLAlchemy->cinemagoer->IMDbPY) (3.0.1)\n",
      "Note: you may need to restart the kernel to use updated packages.\n"
     ]
    }
   ],
   "source": [
    "pip install IMDbPY pandas"
   ]
  },
  {
   "cell_type": "code",
   "execution_count": 10,
   "id": "e641e752-3b3b-425f-a082-9420513afcd3",
   "metadata": {},
   "outputs": [
    {
     "name": "stdout",
     "output_type": "stream",
     "text": [
      "         Movie name  Year of release        Watch  hour   Rating Ratedby  \\\n",
      "0         12th Fail             2023  2 hours 27 minutes     8.9    126K   \n",
      "1          Gol Maal             1979            2 hours      8.5     20K   \n",
      "2          Maharaja             2024  2 hours 30 minutes     8.6     37K   \n",
      "3           Nayakan             1987  2 hours 25 minutes     8.7     25K   \n",
      "4  The World of Apu             1959   1 hour 45 minutes     8.4     17K   \n",
      "\n",
      "       Film Industry             Genre              Director  \\\n",
      "0  Bollywood (Hindi)  Drama, Biography    Vidhu Vinod Chopra   \n",
      "1  Bollywood (Hindi)            Comedy  Hrishikesh Mukherjee   \n",
      "2  Kollywood (Tamil)      Crime, Drama   Nithilan Saminathan   \n",
      "3  Kollywood (Tamil)      Crime, Drama           Mani Ratnam   \n",
      "4     Bengali Cinema             Drama          Satyajit Ray   \n",
      "\n",
      "  Box office collection  User reviews                        Awards  \\\n",
      "0           $138,288.00           945      23 wins & 32 nominations   \n",
      "1                   NIL            48         3 wins & 1 nomination   \n",
      "2           $975,543.00           370                 2 nominations   \n",
      "3           $120,481.93           237         7 wins & 1 nomination   \n",
      "4           $134,241.00            62  4 wins & 2 nominations total   \n",
      "\n",
      "                                         Description  \\\n",
      "0  The real-life story of IPS Officer Manoj Kumar...   \n",
      "1  A man's simple lie to secure his job escalates...   \n",
      "2  A barber seeks vengeance after his home is bur...   \n",
      "3  A common man's struggles against a corrupt pol...   \n",
      "4  This final installment in Satyajit Ray's Apu T...   \n",
      "\n",
      "                  Streaming platform  \n",
      "0                            SonyLIV  \n",
      "1  Amazon Prime Video, YouTube, Zee5  \n",
      "2                            Netflix  \n",
      "3        Amazon Prime Video, YouTube  \n",
      "4        Amazon Prime Video, Hoichoi  \n",
      "Index(['Movie name', 'Year of release', 'Watch  hour ', 'Rating', 'Ratedby',\n",
      "       'Film Industry', 'Genre', 'Director', 'Box office collection',\n",
      "       'User reviews', 'Awards', 'Description', 'Streaming platform'],\n",
      "      dtype='object')\n"
     ]
    }
   ],
   "source": [
    "#step 2 writing the web scraping script\n",
    "# for this we imported necessary libraries\n",
    "\n",
    "import numpy as np\n",
    "import pandas as pd\n",
    "from imdb import IMDb\n",
    " # Load the excel file containing IMDb movie IDs \n",
    "file_path ='imdb web scrapping week 5.xls' # this is the same xls file in the same folder\n",
    "df_movies = pd.read_excel(file_path) # reads the excel file.\n",
    "print(df_movies.head()) # print 5 fronts \n",
    "\n",
    "print(df_movies.columns)\n"
   ]
  },
  {
   "cell_type": "code",
   "execution_count": 5,
   "id": "c7b8ec4e-898c-4b67-98fc-0efd89470ea3",
   "metadata": {},
   "outputs": [
    {
     "name": "stdout",
     "output_type": "stream",
     "text": [
      "Requirement already satisfied: xlrd in c:\\users\\vipan\\anaconda3\\lib\\site-packages (2.0.1)\n",
      "Note: you may need to restart the kernel to use updated packages.\n"
     ]
    }
   ],
   "source": [
    "pip install xlrd"
   ]
  },
  {
   "cell_type": "code",
   "execution_count": 26,
   "id": "4403949e-bb06-439d-8096-9730361f02e8",
   "metadata": {},
   "outputs": [
    {
     "ename": "IndentationError",
     "evalue": "unindent does not match any outer indentation level (<string>, line 21)",
     "output_type": "error",
     "traceback": [
      "\u001b[1;36m  File \u001b[1;32m<string>:21\u001b[1;36m\u001b[0m\n\u001b[1;33m    except Exception as e:\u001b[0m\n\u001b[1;37m                          ^\u001b[0m\n\u001b[1;31mIndentationError\u001b[0m\u001b[1;31m:\u001b[0m unindent does not match any outer indentation level\n"
     ]
    }
   ],
   "source": [
    "#  Initialize IMDb instance\n",
    "ia= IMDb()\n",
    "# Initialize an empty list to store movie data\n",
    "movies_data = []  \n",
    "        \n",
    "        \n",
    "        # Extract movie details\n",
    "        data = {\n",
    "            'Title': movie.get('title'),\n",
    "            'Year': movie.get('year'),\n",
    "            'Rating': movie.get('rating'),\n",
    "            'Votes': movie.get('votes'),\n",
    "            'Genres': ', '.join(movie.get('genres', [])),\n",
    "            'Directors': ', '.join([director['name'] for director in movie.get('directors', [])]),\n",
    "            'Plot': movie.get('plot outline', 'No plot available')\n",
    "        }\n",
    "\n",
    "        # Append the extracted data to the movies_data list\n",
    "        movies_data.append(data)\n",
    "\n",
    "    except Exception as e:\n",
    "        print(f\"Error fetching data for movie name {movies_data}: {e}\")\n",
    "\n",
    "# Step 5: Convert the list of movie data to a DataFrame\n",
    "df_scraped_data = pd.DataFrame(movies_data)\n",
    "\n",
    "# Step 6: Display the DataFrame to verify the data\n",
    "print(df_scraped_data)\n",
    "\n",
    "# Step 7: Save the scraped data to a CSV file\n",
    "df_scraped_data.to_xls('scraped_imdb_data.xls', index=False)\n",
    "print(\"Scraped data saved to scraped_imdb_data.csv\")\n"
   ]
  },
  {
   "cell_type": "code",
   "execution_count": null,
   "id": "42c8edad-53da-4d32-b87c-4313bb6ef28e",
   "metadata": {},
   "outputs": [],
   "source": []
  }
 ],
 "metadata": {
  "kernelspec": {
   "display_name": "Python 3 (ipykernel)",
   "language": "python",
   "name": "python3"
  },
  "language_info": {
   "codemirror_mode": {
    "name": "ipython",
    "version": 3
   },
   "file_extension": ".py",
   "mimetype": "text/x-python",
   "name": "python",
   "nbconvert_exporter": "python",
   "pygments_lexer": "ipython3",
   "version": "3.12.4"
  }
 },
 "nbformat": 4,
 "nbformat_minor": 5
}
